{
 "cells": [
  {
   "cell_type": "markdown",
   "metadata": {},
   "source": [
    "## 信息标记"
   ]
  },
  {
   "cell_type": "code",
   "execution_count": 3,
   "metadata": {},
   "outputs": [],
   "source": [
    "from bs4 import BeautifulSoup\n",
    "import requests"
   ]
  },
  {
   "cell_type": "code",
   "execution_count": 5,
   "metadata": {},
   "outputs": [],
   "source": [
    "r = requests.get(\"http://python123.io/ws/demo.html\")"
   ]
  },
  {
   "cell_type": "code",
   "execution_count": 6,
   "metadata": {},
   "outputs": [],
   "source": [
    "demo = r.text"
   ]
  },
  {
   "cell_type": "code",
   "execution_count": 8,
   "metadata": {},
   "outputs": [
    {
     "data": {
      "text/plain": [
       "'<html><head><title>This is a python demo page</title></head>\\r\\n<body>\\r\\n<p class=\"title\"><b>The demo python introduces several python courses.</b></p>\\r\\n<p class=\"course\">Python is a wonderful general-purpose programming language. You can learn Python from novice to professional by tracking the following courses:\\r\\n<a href=\"http://www.icourse163.org/course/BIT-268001\" class=\"py1\" id=\"link1\">Basic Python</a> and <a href=\"http://www.icourse163.org/course/BIT-1001870001\" class=\"py2\" id=\"link2\">Advanced Python</a>.</p>\\r\\n</body></html>'"
      ]
     },
     "execution_count": 8,
     "metadata": {},
     "output_type": "execute_result"
    }
   ],
   "source": [
    "demo"
   ]
  },
  {
   "cell_type": "code",
   "execution_count": 9,
   "metadata": {
    "scrolled": true
   },
   "outputs": [],
   "source": [
    "soup = BeautifulSoup(demo, \"html.parser\")"
   ]
  },
  {
   "cell_type": "code",
   "execution_count": 10,
   "metadata": {},
   "outputs": [
    {
     "data": {
      "text/plain": [
       "[<a class=\"py1\" href=\"http://www.icourse163.org/course/BIT-268001\" id=\"link1\">Basic Python</a>,\n",
       " <a class=\"py2\" href=\"http://www.icourse163.org/course/BIT-1001870001\" id=\"link2\">Advanced Python</a>]"
      ]
     },
     "execution_count": 10,
     "metadata": {},
     "output_type": "execute_result"
    }
   ],
   "source": [
    "soup.find_all('a')"
   ]
  },
  {
   "cell_type": "code",
   "execution_count": 11,
   "metadata": {},
   "outputs": [],
   "source": [
    "#正则表达式\n",
    "import re"
   ]
  },
  {
   "cell_type": "code",
   "execution_count": 14,
   "metadata": {},
   "outputs": [
    {
     "name": "stdout",
     "output_type": "stream",
     "text": [
      "body\n",
      "b\n"
     ]
    }
   ],
   "source": [
    "#b开头的标签\n",
    "for tag in soup.find_all(re.compile('b')):\n",
    "    print(tag.name)"
   ]
  },
  {
   "cell_type": "code",
   "execution_count": 13,
   "metadata": {},
   "outputs": [
    {
     "data": {
      "text/plain": [
       "[<a class=\"py1\" href=\"http://www.icourse163.org/course/BIT-268001\" id=\"link1\">Basic Python</a>]"
      ]
     },
     "execution_count": 13,
     "metadata": {},
     "output_type": "execute_result"
    }
   ],
   "source": [
    "soup.find_all(id='link1')"
   ]
  },
  {
   "cell_type": "code",
   "execution_count": 15,
   "metadata": {},
   "outputs": [
    {
     "data": {
      "text/plain": [
       "[<a class=\"py1\" href=\"http://www.icourse163.org/course/BIT-268001\" id=\"link1\">Basic Python</a>,\n",
       " <a class=\"py2\" href=\"http://www.icourse163.org/course/BIT-1001870001\" id=\"link2\">Advanced Python</a>]"
      ]
     },
     "execution_count": 15,
     "metadata": {},
     "output_type": "execute_result"
    }
   ],
   "source": [
    "#正则表达式查找id已link开头的标签\n",
    "soup.find_all(id = re.compile('link'))"
   ]
  },
  {
   "cell_type": "code",
   "execution_count": 16,
   "metadata": {},
   "outputs": [
    {
     "data": {
      "text/plain": [
       "['Basic Python']"
      ]
     },
     "execution_count": 16,
     "metadata": {},
     "output_type": "execute_result"
    }
   ],
   "source": [
    "#检索字符串\n",
    "soup.find_all(string = \"Basic Python\")"
   ]
  },
  {
   "cell_type": "code",
   "execution_count": 19,
   "metadata": {},
   "outputs": [
    {
     "data": {
      "text/plain": [
       "['This is a python demo page',\n",
       " 'The demo python introduces several python courses.']"
      ]
     },
     "execution_count": 19,
     "metadata": {},
     "output_type": "execute_result"
    }
   ],
   "source": [
    "#正则表达式 检索字符串含有python的信息\n",
    "soup.find_all(string = re.compile(\"python\"))"
   ]
  },
  {
   "cell_type": "markdown",
   "metadata": {},
   "source": [
    "## 中国大学排名爬取"
   ]
  },
  {
   "cell_type": "code",
   "execution_count": 1,
   "metadata": {},
   "outputs": [],
   "source": [
    "#定向爬虫\n",
    "# http://www.zuihaodaxue.cn/zuihaodaxuepaiming2019.html"
   ]
  },
  {
   "cell_type": "code",
   "execution_count": 4,
   "metadata": {},
   "outputs": [],
   "source": [
    "from bs4 import BeautifulSoup\n",
    "import requests\n",
    "import bs4"
   ]
  },
  {
   "cell_type": "code",
   "execution_count": 11,
   "metadata": {},
   "outputs": [
    {
     "name": "stdout",
     "output_type": "stream",
     "text": [
      "    排名    \t 学校名称 \t    总分    \n",
      "    1     \t 清华大学 \t    北京    \n",
      "    2     \t 北京大学 \t    北京    \n",
      "    3     \t 浙江大学 \t    浙江    \n",
      "    4     \t上海交通大学\t    上海    \n",
      "    5     \t 复旦大学 \t    上海    \n",
      "    6     \t中国科学技术大学\t    安徽    \n",
      "    7     \t华中科技大学\t    湖北    \n",
      "    7     \t 南京大学 \t    江苏    \n",
      "    9     \t 中山大学 \t    广东    \n",
      "    10    \t哈尔滨工业大学\t   黑龙江    \n",
      "    11    \t北京航空航天大学\t    北京    \n",
      "    12    \t 武汉大学 \t    湖北    \n",
      "    13    \t 同济大学 \t    上海    \n",
      "    14    \t西安交通大学\t    陕西    \n",
      "    15    \t 四川大学 \t    四川    \n",
      "    16    \t北京理工大学\t    北京    \n",
      "    17    \t 东南大学 \t    江苏    \n",
      "    18    \t 南开大学 \t    天津    \n",
      "    19    \t 天津大学 \t    天津    \n",
      "    20    \t华南理工大学\t    广东    \n",
      "    21    \t 中南大学 \t    湖南    \n",
      "    22    \t北京师范大学\t    北京    \n",
      "    23    \t 山东大学 \t    山东    \n",
      "    23    \t 厦门大学 \t    福建    \n",
      "    25    \t 吉林大学 \t    吉林    \n",
      "    26    \t大连理工大学\t    辽宁    \n",
      "    27    \t电子科技大学\t    四川    \n",
      "    28    \t 湖南大学 \t    湖南    \n",
      "    29    \t 苏州大学 \t    江苏    \n",
      "    30    \t西北工业大学\t    陕西    \n",
      "    31    \t中国人民大学\t    北京    \n",
      "    32    \t华东师范大学\t    上海    \n",
      "    33    \t南京航空航天大学\t    江苏    \n",
      "    34    \t对外经济贸易大学\t    北京    \n",
      "    35    \t南方科技大学\t    广东    \n",
      "    36    \t华东理工大学\t    上海    \n",
      "    37    \t 重庆大学 \t    重庆    \n",
      "    38    \t南京理工大学\t    江苏    \n",
      "    39    \t北京科技大学\t    北京    \n",
      "    40    \t 东北大学 \t    辽宁    \n",
      "    41    \t 上海大学 \t    上海    \n",
      "    42    \t北京邮电大学\t    北京    \n",
      "    42    \t上海财经大学\t    上海    \n",
      "    42    \t中国农业大学\t    北京    \n",
      "    45    \t武汉理工大学\t    湖北    \n",
      "    46    \t北京交通大学\t    北京    \n",
      "    46    \t华中师范大学\t    湖北    \n",
      "    48    \t西安电子科技大学\t    陕西    \n",
      "    49    \t中央财经大学\t    北京    \n",
      "    50    \t北京化工大学\t    北京    \n",
      "    51    \t 暨南大学 \t    广东    \n",
      "    52    \t 东华大学 \t    上海    \n",
      "    52    \t 兰州大学 \t    甘肃    \n",
      "    52    \t中南财经政法大学\t    湖北    \n",
      "    55    \t宁波诺丁汉大学\t    浙江    \n",
      "    56    \t哈尔滨工程大学\t   黑龙江    \n",
      "    56    \t华北电力大学\t    北京    \n",
      "    58    \t 深圳大学 \t    广东    \n",
      "    59    \t 江南大学 \t    江苏    \n",
      "    59    \t南京师范大学\t    江苏    \n",
      "    61    \t北京工业大学\t    北京    \n",
      "    62    \t 福州大学 \t    福建    \n",
      "    63    \t北京外国语大学\t    北京    \n",
      "    63    \t北京语言大学\t    北京    \n",
      "    63    \t中国地质大学（武汉）\t    湖北    \n",
      "    66    \t西南交通大学\t    四川    \n",
      "    67    \t华中农业大学\t    湖北    \n",
      "    67    \t中国海洋大学\t    山东    \n",
      "    69    \t南京农业大学\t    江苏    \n",
      "    70    \t上海外国语大学\t    上海    \n",
      "    71    \t中国矿业大学\t    江苏    \n",
      "    72    \t中国地质大学（北京）\t    北京    \n",
      "    73    \t东北财经大学\t    辽宁    \n",
      "    73    \t西南财经大学\t    四川    \n",
      "    73    \t 西南大学 \t    重庆    \n",
      "    76    \t东北师范大学\t    吉林    \n",
      "    76    \t南京邮电大学\t    江苏    \n",
      "    76    \t中国政法大学\t    北京    \n",
      "    79    \t 河海大学 \t    江苏    \n",
      "    80    \t南京信息工程大学\t    江苏    \n",
      "    81    \t西北农林科技大学\t    陕西    \n",
      "    82    \t中国石油大学（华东）\t    山东    \n",
      "    83    \t合肥工业大学\t    安徽    \n",
      "    84    \t陕西师范大学\t    陕西    \n",
      "    85    \t华南师范大学\t    广东    \n",
      "    85    \t 江苏大学 \t    江苏    \n",
      "    87    \t南京工业大学\t    江苏    \n",
      "    87    \t中国石油大学（北京）\t    北京    \n",
      "    89    \t 西北大学 \t    陕西    \n",
      "    89    \t浙江工业大学\t    浙江    \n",
      "    91    \t北京林业大学\t    北京    \n",
      "    91    \t湖南师范大学\t    湖南    \n",
      "    91    \t浙江师范大学\t    浙江    \n",
      "    94    \t首都师范大学\t    北京    \n",
      "    95    \t 汕头大学 \t    广东    \n",
      "    96    \t中国传媒大学\t    北京    \n",
      "    97    \t杭州电子科技大学\t    浙江    \n",
      "    98    \t 扬州大学 \t    江苏    \n",
      "    99    \t 安徽大学 \t    安徽    \n",
      "   100    \t 华侨大学 \t    福建    \n",
      "   101    \t 宁波大学 \t    浙江    \n",
      "   101    \t首都经济贸易大学\t    北京    \n",
      "   101    \t西交利物浦大学\t    江苏    \n",
      "   104    \t 燕山大学 \t    河北    \n",
      "   105    \t 湖北大学 \t    湖北    \n",
      "   106    \t 长安大学 \t    陕西    \n",
      "   106    \t上海理工大学\t    上海    \n",
      "   108    \t大连海事大学\t    辽宁    \n",
      "   108    \t广东外语外贸大学\t    广东    \n",
      "   108    \t太原理工大学\t    山西    \n",
      "   111    \t广东工业大学\t    广东    \n",
      "   111    \t南京财经大学\t    江苏    \n",
      "   111    \t浙江理工大学\t    浙江    \n",
      "   114    \t河北工业大学\t    天津    \n",
      "   115    \t华东政法大学\t    上海    \n",
      "   115    \t 湘潭大学 \t    湖南    \n",
      "   115    \t浙江财经大学\t    浙江    \n",
      "   115    \t中国矿业大学（北京）\t    北京    \n",
      "   119    \t 青岛大学 \t    山东    \n",
      "   120    \t上海师范大学\t    上海    \n",
      "   121    \t南京审计大学\t    江苏    \n",
      "   122    \t华南农业大学\t    广东    \n",
      "   123    \t江西财经大学\t    江西    \n",
      "   123    \t 辽宁大学 \t    辽宁    \n",
      "   123    \t中央民族大学\t    北京    \n",
      "   126    \t武汉工程大学\t    湖北    \n",
      "   126    \t 郑州大学 \t    河南    \n",
      "   128    \t杭州师范大学\t    浙江    \n",
      "   128    \t上海对外经贸大学\t    上海    \n",
      "   130    \t上海海事大学\t    上海    \n",
      "   131    \t山东师范大学\t    山东    \n",
      "   131    \t武汉科技大学\t    湖北    \n",
      "   133    \t北京第二外国语学院\t    北京    \n",
      "   133    \t 广西大学 \t    广西    \n",
      "   133    \t 云南大学 \t    云南    \n",
      "   133    \t浙江工商大学\t    浙江    \n",
      "   137    \t 山西大学 \t    山西    \n",
      "   138    \t东北农业大学\t   黑龙江    \n",
      "   139    \t 广州大学 \t    广东    \n",
      "   139    \t黑龙江大学 \t   黑龙江    \n",
      "   139    \t 南昌大学 \t    江西    \n",
      "   139    \t天津财经大学\t    天津    \n",
      "   143    \t东北林业大学\t   黑龙江    \n",
      "   143    \t 河南大学 \t    河南    \n",
      "   145    \t 河北大学 \t    河北    \n",
      "   146    \t江苏师范大学\t    江苏    \n",
      "   147    \t 济南大学 \t    山东    \n",
      "   147    \t山东财经大学\t    山东    \n",
      "   149    \t山东科技大学\t    山东    \n",
      "   150    \t长沙理工大学\t    湖南    \n",
      "   151    \t西南政法大学\t    重庆    \n",
      "   152    \t 渤海大学 \t    辽宁    \n",
      "   152    \t重庆工商大学\t    重庆    \n",
      "   152    \t福建师范大学\t    福建    \n",
      "   152    \t天津师范大学\t    天津    \n",
      "   156    \t曲阜师范大学\t    山东    \n",
      "   156    \t 三峡大学 \t    湖北    \n",
      "   158    \t北京工商大学\t    北京    \n",
      "   158    \t西安理工大学\t    陕西    \n",
      "   158    \t浙江农林大学\t    浙江    \n",
      "   161    \t广西师范大学\t    广西    \n",
      "   161    \t 温州大学 \t    浙江    \n",
      "   163    \t湖北工业大学\t    湖北    \n",
      "   163    \t四川农业大学\t    四川    \n",
      "   165    \t重庆邮电大学\t    重庆    \n",
      "   165    \t河北师范大学\t    河北    \n",
      "   165    \t河南师范大学\t    河南    \n",
      "   168    \t北京体育大学\t    北京    \n",
      "   168    \t 常州大学 \t    江苏    \n",
      "   168    \t天津工业大学\t    天津    \n",
      "   171    \t石家庄铁道大学\t    河北    \n",
      "   172    \t中国计量大学\t    浙江    \n",
      "   173    \t 海南大学 \t    海南    \n",
      "   173    \t江苏科技大学\t    江苏    \n",
      "   175    \t安徽财经大学\t    安徽    \n",
      "   175    \t北京建筑大学\t    北京    \n",
      "   175    \t中南民族大学\t    湖北    \n",
      "   178    \t安徽工业大学\t    安徽    \n",
      "   178    \t北京物资学院\t    北京    \n",
      "   178    \t 南通大学 \t    江苏    \n",
      "   178    \t内蒙古大学 \t   内蒙古    \n",
      "   178    \t中国人民公安大学\t    北京    \n",
      "   183    \t青岛科技大学\t    山东    \n",
      "   183    \t西南石油大学\t    四川    \n",
      "   185    \t武汉纺织大学\t    湖北    \n",
      "   185    \t中国民航大学\t    天津    \n",
      "   187    \t华北理工大学\t    河北    \n",
      "   187    \t南京林业大学\t    江苏    \n",
      "   187    \t西安建筑科技大学\t    陕西    \n",
      "   190    \t北方工业大学\t    北京    \n",
      "   190    \t河北科技大学\t    河北    \n",
      "   190    \t上海电力大学\t    上海    \n",
      "   193    \t安徽师范大学\t    安徽    \n",
      "   193    \t哈尔滨师范大学\t   黑龙江    \n",
      "   193    \t湖南农业大学\t    湖南    \n",
      "   193    \t上海海洋大学\t    上海    \n",
      "   193    \t上海立信会计金融学院\t    上海    \n",
      "   193    \t四川师范大学\t    四川    \n",
      "   199    \t辽宁工业大学\t    辽宁    \n",
      "   200    \t沈阳航空航天大学\t    辽宁    \n",
      "Suc200\n"
     ]
    }
   ],
   "source": [
    "def getHTMLText(url):\n",
    "    try:\n",
    "        r = requests.get(url, timeout = 30)\n",
    "        r.raise_for_status()\n",
    "        r.encoding = r.apparent_encoding\n",
    "        return r.text\n",
    "    except:\n",
    "        return \"\"\n",
    "\n",
    "def fillUnivList(ulist, html):\n",
    "    soup = BeautifulSoup(html, \"html.parser\")\n",
    "    for tr in soup.find('tbody').children:\n",
    "        if isinstance(tr, bs4.element.Tag):\n",
    "            tds = tr('td')\n",
    "            ulist.append([tds[0].string, tds[1].string, tds[2].string])\n",
    "    pass\n",
    "\n",
    "def printUnivList(ulist, num):\n",
    "    print(\"{:^10}\\t{:^6}\\t{:^10}\".format(\"排名\",\"学校名称\",\"总分\"))\n",
    "    for i in range(num):\n",
    "        u = ulist[i]\n",
    "        print(\"{:^10}\\t{:^6}\\t{:^10}\".format(u[0], u[1], u[2]))\n",
    "    print(\"Suc\" + str(num))\n",
    "    \n",
    "def main():\n",
    "    uinfo = []\n",
    "    url = 'http://www.zuihaodaxue.cn/zuihaodaxuepaiming2019.html'\n",
    "    html = getHTMLText(url)\n",
    "    fillUnivList(uinfo, html)\n",
    "    printUnivList(uinfo, 200)\n",
    "\n",
    "main()"
   ]
  },
  {
   "cell_type": "code",
   "execution_count": 14,
   "metadata": {},
   "outputs": [
    {
     "ename": "IndexError",
     "evalue": "tuple index out of range",
     "output_type": "error",
     "traceback": [
      "\u001b[0;31m---------------------------------------------------------------------------\u001b[0m",
      "\u001b[0;31mIndexError\u001b[0m                                Traceback (most recent call last)",
      "\u001b[0;32m<ipython-input-14-2c89bbbc5144>\u001b[0m in \u001b[0;36m<module>\u001b[0;34m\u001b[0m\n\u001b[1;32m      8\u001b[0m     \u001b[0mprint\u001b[0m\u001b[0;34m(\u001b[0m\u001b[0;34m\"Suc\"\u001b[0m \u001b[0;34m+\u001b[0m \u001b[0mstr\u001b[0m\u001b[0;34m(\u001b[0m\u001b[0mnum\u001b[0m\u001b[0;34m)\u001b[0m\u001b[0;34m)\u001b[0m\u001b[0;34m\u001b[0m\u001b[0m\n\u001b[1;32m      9\u001b[0m \u001b[0;34m\u001b[0m\u001b[0m\n\u001b[0;32m---> 10\u001b[0;31m \u001b[0mmain\u001b[0m\u001b[0;34m(\u001b[0m\u001b[0;34m)\u001b[0m\u001b[0;34m\u001b[0m\u001b[0m\n\u001b[0m",
      "\u001b[0;32m<ipython-input-11-0639bed5ddf6>\u001b[0m in \u001b[0;36mmain\u001b[0;34m()\u001b[0m\n\u001b[1;32m     28\u001b[0m     \u001b[0mhtml\u001b[0m \u001b[0;34m=\u001b[0m \u001b[0mgetHTMLText\u001b[0m\u001b[0;34m(\u001b[0m\u001b[0murl\u001b[0m\u001b[0;34m)\u001b[0m\u001b[0;34m\u001b[0m\u001b[0m\n\u001b[1;32m     29\u001b[0m     \u001b[0mfillUnivList\u001b[0m\u001b[0;34m(\u001b[0m\u001b[0muinfo\u001b[0m\u001b[0;34m,\u001b[0m \u001b[0mhtml\u001b[0m\u001b[0;34m)\u001b[0m\u001b[0;34m\u001b[0m\u001b[0m\n\u001b[0;32m---> 30\u001b[0;31m     \u001b[0mprintUnivList\u001b[0m\u001b[0;34m(\u001b[0m\u001b[0muinfo\u001b[0m\u001b[0;34m,\u001b[0m \u001b[0;36m200\u001b[0m\u001b[0;34m)\u001b[0m\u001b[0;34m\u001b[0m\u001b[0m\n\u001b[0m\u001b[1;32m     31\u001b[0m \u001b[0;34m\u001b[0m\u001b[0m\n\u001b[1;32m     32\u001b[0m \u001b[0mmain\u001b[0m\u001b[0;34m(\u001b[0m\u001b[0;34m)\u001b[0m\u001b[0;34m\u001b[0m\u001b[0m\n",
      "\u001b[0;32m<ipython-input-14-2c89bbbc5144>\u001b[0m in \u001b[0;36mprintUnivList\u001b[0;34m(ulist, num)\u001b[0m\n\u001b[1;32m      2\u001b[0m \u001b[0;32mdef\u001b[0m \u001b[0mprintUnivList\u001b[0m\u001b[0;34m(\u001b[0m\u001b[0mulist\u001b[0m\u001b[0;34m,\u001b[0m \u001b[0mnum\u001b[0m\u001b[0;34m)\u001b[0m\u001b[0;34m:\u001b[0m\u001b[0;34m\u001b[0m\u001b[0m\n\u001b[1;32m      3\u001b[0m     \u001b[0mtplt\u001b[0m \u001b[0;34m=\u001b[0m \u001b[0;34m\"{0:^15}\\t{1:{5}^15}\\t{2:^15}\"\u001b[0m\u001b[0;34m\u001b[0m\u001b[0m\n\u001b[0;32m----> 4\u001b[0;31m     \u001b[0mprint\u001b[0m\u001b[0;34m(\u001b[0m\u001b[0mtplt\u001b[0m\u001b[0;34m.\u001b[0m\u001b[0mformat\u001b[0m\u001b[0;34m(\u001b[0m\u001b[0;34m\"排名\"\u001b[0m\u001b[0;34m,\u001b[0m\u001b[0;34m\"学校名称\"\u001b[0m\u001b[0;34m,\u001b[0m\u001b[0;34m\"总分\"\u001b[0m\u001b[0;34m)\u001b[0m\u001b[0;34m,\u001b[0m \u001b[0mchr\u001b[0m\u001b[0;34m(\u001b[0m\u001b[0;36m12288\u001b[0m\u001b[0;34m)\u001b[0m\u001b[0;34m)\u001b[0m\u001b[0;34m\u001b[0m\u001b[0m\n\u001b[0m\u001b[1;32m      5\u001b[0m     \u001b[0;32mfor\u001b[0m \u001b[0mi\u001b[0m \u001b[0;32min\u001b[0m \u001b[0mrange\u001b[0m\u001b[0;34m(\u001b[0m\u001b[0mnum\u001b[0m\u001b[0;34m)\u001b[0m\u001b[0;34m:\u001b[0m\u001b[0;34m\u001b[0m\u001b[0m\n\u001b[1;32m      6\u001b[0m         \u001b[0mu\u001b[0m \u001b[0;34m=\u001b[0m \u001b[0mulist\u001b[0m\u001b[0;34m[\u001b[0m\u001b[0mi\u001b[0m\u001b[0;34m]\u001b[0m\u001b[0;34m\u001b[0m\u001b[0m\n",
      "\u001b[0;31mIndexError\u001b[0m: tuple index out of range"
     ]
    }
   ],
   "source": [
    "#输出优化\n",
    "def printUnivList(ulist, num):\n",
    "    tplt = \"{0:^15}\\t{1:{5}^15}\\t{2:^15}\"\n",
    "    print(tplt.format(\"排名\",\"学校名称\",\"总分\"), chr(12288))\n",
    "    for i in range(num):\n",
    "        u = ulist[i]\n",
    "        print(tplt.format(u[0], u[1], u[2]), chr(12288))\n",
    "    print(\"Suc\" + str(num))\n",
    "    \n",
    "main()"
   ]
  },
  {
   "cell_type": "code",
   "execution_count": null,
   "metadata": {},
   "outputs": [],
   "source": []
  }
 ],
 "metadata": {
  "kernelspec": {
   "display_name": "Python 3",
   "language": "python",
   "name": "python3"
  },
  "language_info": {
   "codemirror_mode": {
    "name": "ipython",
    "version": 3
   },
   "file_extension": ".py",
   "mimetype": "text/x-python",
   "name": "python",
   "nbconvert_exporter": "python",
   "pygments_lexer": "ipython3",
   "version": "3.6.1"
  }
 },
 "nbformat": 4,
 "nbformat_minor": 2
}
