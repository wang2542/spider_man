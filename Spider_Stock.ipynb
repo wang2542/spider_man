{
 "cells": [
  {
   "cell_type": "code",
   "execution_count": 1,
   "metadata": {},
   "outputs": [],
   "source": [
    "import requests\n",
    "from bs4 import BeautifulSoup\n",
    "import traceback\n",
    "import re"
   ]
  },
  {
   "cell_type": "code",
   "execution_count": 9,
   "metadata": {},
   "outputs": [],
   "source": [
    "def getHTMLText(url):\n",
    "    try:\n",
    "        r = requests.get(url, timeout = 30)\n",
    "        r.raise_for_status()\n",
    "        r.encoding = r.apparent_encoding\n",
    "        return r.text\n",
    "    except:\n",
    "        return \"\"\n",
    "\n",
    "def getStockList(lst, stockURL):\n",
    "    html = getHTMLText(stockURL)\n",
    "    soup = BeautifulSoup(html, 'html.parser')\n",
    "    a = soup.find_all('a')\n",
    "    for i in a:\n",
    "        try:\n",
    "            href = i.attrs['href']\n",
    "            lst.append(re.findall(r\"[s][hz]\\d{6}\", href)[0])\n",
    "        except:\n",
    "            continue\n",
    "    return \"\"\n",
    "\n",
    "## 每只个股的股票信息\n",
    "def getStockInfo(lst, stockURL, fpath):\n",
    "    for stock in lst:\n",
    "        url = stockURL + stock + \".html\"\n",
    "        html = getHTMLText(url)\n",
    "        try:\n",
    "            if html == \"\":\n",
    "                continue\n",
    "            infoDict = []\n",
    "            soup = BeautifulSoup(html, 'html.parser')\n",
    "            stockInfo = soup.find('div', attrs = {'class': 'stock-bets'})\n",
    "            \n",
    "            name = stockInfo.finad_all(attrs={'class':'bets-name'})[0]\n",
    "            infoDict.update({'股票名称':name.text.split()[0]})\n",
    "            \n",
    "            keyList = stockInfo.find_all('dt')\n",
    "            valueList = stockInfo.find_all('dd')\n",
    "            for i in range(len(keyList)):\n",
    "                key = keyList[i].text\n",
    "                val = valueList[i].text\n",
    "                infoDict[key] = val\n",
    "                \n",
    "            with open(fpath, 'a', encoding='utf-8') as f:\n",
    "                f.write(str(infoDict) + '\\n')\n",
    "                \n",
    "            print(\"Done!\")\n",
    "                \n",
    "        except:\n",
    "            tracekback.print_exc()\n",
    "            continue\n",
    "\n",
    "def main():\n",
    "    stock_list_url = \"http://quote.eastmoney.com/stocklist.html\"\n",
    "    stock_info_url = \"https://gupiao.baidu.com/stock\"\n",
    "    output_file = '/Users/jingzhouwang/spider_man/spider_man/BaiduStockInfo.txt'\n",
    "    slist = []\n",
    "    getStockList(slist, stock_list_url)\n",
    "    getStockInfo(slist, stock_info_url, output_file)\n",
    "    \n",
    "main()"
   ]
  },
  {
   "cell_type": "code",
   "execution_count": null,
   "metadata": {},
   "outputs": [],
   "source": []
  }
 ],
 "metadata": {
  "kernelspec": {
   "display_name": "Python 3",
   "language": "python",
   "name": "python3"
  },
  "language_info": {
   "codemirror_mode": {
    "name": "ipython",
    "version": 3
   },
   "file_extension": ".py",
   "mimetype": "text/x-python",
   "name": "python",
   "nbconvert_exporter": "python",
   "pygments_lexer": "ipython3",
   "version": "3.6.1"
  }
 },
 "nbformat": 4,
 "nbformat_minor": 2
}
